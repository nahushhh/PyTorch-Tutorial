{
  "nbformat": 4,
  "nbformat_minor": 0,
  "metadata": {
    "colab": {
      "provenance": []
    },
    "kernelspec": {
      "name": "python3",
      "display_name": "Python 3"
    },
    "language_info": {
      "name": "python"
    }
  },
  "cells": [
    {
      "cell_type": "code",
      "execution_count": null,
      "metadata": {
        "id": "v2PawnNG8L13"
      },
      "outputs": [],
      "source": [
        "import torch"
      ]
    },
    {
      "cell_type": "code",
      "source": [
        "# Number\n",
        "t1 = torch.tensor(4.)\n",
        "print(t1, t1.dtype, t1.shape)"
      ],
      "metadata": {
        "colab": {
          "base_uri": "https://localhost:8080/"
        },
        "id": "XTzXAUKe9Cj1",
        "outputId": "8862bd05-6b35-4ec9-f61d-024d731bd228"
      },
      "execution_count": null,
      "outputs": [
        {
          "output_type": "stream",
          "name": "stdout",
          "text": [
            "tensor(4.) torch.float32 torch.Size([])\n"
          ]
        }
      ]
    },
    {
      "cell_type": "code",
      "source": [
        "# Vector\n",
        "t2 = torch.tensor([1., 2, 3, 4]) # All elements of tensor has same type\n",
        "print(t2, t2.dtype, t2.shape)"
      ],
      "metadata": {
        "colab": {
          "base_uri": "https://localhost:8080/"
        },
        "id": "4NPERB-i9Lmk",
        "outputId": "87f8de79-06c8-4a7a-ae0e-97051bfa12f0"
      },
      "execution_count": null,
      "outputs": [
        {
          "output_type": "stream",
          "name": "stdout",
          "text": [
            "tensor([1., 2., 3., 4.]) torch.float32 torch.Size([4])\n"
          ]
        }
      ]
    },
    {
      "cell_type": "code",
      "source": [
        "# Matrix\n",
        "t3 = torch.tensor([[5., 6],\n",
        "                  [7, 8],\n",
        "                   [9, 10]])\n",
        "print(t3, t3.dtype, t3.shape)"
      ],
      "metadata": {
        "colab": {
          "base_uri": "https://localhost:8080/"
        },
        "id": "AQlPQ2zx9Rd8",
        "outputId": "e5f51ec1-4440-43b2-8633-16137adbb25a"
      },
      "execution_count": null,
      "outputs": [
        {
          "output_type": "stream",
          "name": "stdout",
          "text": [
            "tensor([[ 5.,  6.],\n",
            "        [ 7.,  8.],\n",
            "        [ 9., 10.]]) torch.float32 torch.Size([3, 2])\n"
          ]
        }
      ]
    },
    {
      "cell_type": "code",
      "source": [
        "# 3d array\n",
        "t4 = torch.tensor([[[11., 12., 13.],\n",
        "                    [14., 15., 16]]])\n",
        "print(t4, t4.dtype, t4.shape)"
      ],
      "metadata": {
        "colab": {
          "base_uri": "https://localhost:8080/"
        },
        "id": "HXyEzrXm9caz",
        "outputId": "074bff6a-2833-4c4e-9e80-46a4daafe3cc"
      },
      "execution_count": null,
      "outputs": [
        {
          "output_type": "stream",
          "name": "stdout",
          "text": [
            "tensor([[[11., 12., 13.],\n",
            "         [14., 15., 16.]]]) torch.float32 torch.Size([1, 2, 3])\n"
          ]
        }
      ]
    },
    {
      "cell_type": "code",
      "source": [
        "t5 = torch.tensor([\n",
        "    [\n",
        "        [1.,2.,3.],\n",
        "        [4.,5.,6.]\n",
        "    ],\n",
        "    [\n",
        "        [7.,8.,9.],\n",
        "        [10.,11.,12.]\n",
        "    ]\n",
        "])\n",
        "print(t5, t5.dtype, t5.shape)"
      ],
      "metadata": {
        "colab": {
          "base_uri": "https://localhost:8080/"
        },
        "id": "D1q-2ru2-P5s",
        "outputId": "f316221c-1552-48ba-a1eb-dadbb5c3be89"
      },
      "execution_count": null,
      "outputs": [
        {
          "output_type": "stream",
          "name": "stdout",
          "text": [
            "tensor([[[ 1.,  2.,  3.],\n",
            "         [ 4.,  5.,  6.]],\n",
            "\n",
            "        [[ 7.,  8.,  9.],\n",
            "         [10., 11., 12.]]]) torch.float32 torch.Size([2, 2, 3])\n"
          ]
        }
      ]
    },
    {
      "cell_type": "markdown",
      "source": [
        "Tensor must have a proper shape and same data type"
      ],
      "metadata": {
        "id": "b3RTBkJ--qus"
      }
    },
    {
      "cell_type": "code",
      "source": [
        "# create tensor\n",
        "x = torch.tensor(3.)\n",
        "w = torch.tensor(4., requires_grad=True)\n",
        "b = torch.tensor(5., requires_grad=True)\n",
        "\n",
        "x, w, b"
      ],
      "metadata": {
        "colab": {
          "base_uri": "https://localhost:8080/"
        },
        "id": "HdKDOqxx9sFV",
        "outputId": "b80cc392-8f65-4ce1-ba95-783b797da72c"
      },
      "execution_count": null,
      "outputs": [
        {
          "output_type": "execute_result",
          "data": {
            "text/plain": [
              "(tensor(3.), tensor(4., requires_grad=True), tensor(5., requires_grad=True))"
            ]
          },
          "metadata": {},
          "execution_count": 7
        }
      ]
    },
    {
      "cell_type": "code",
      "source": [
        "y = w*x+b\n",
        "print(y)"
      ],
      "metadata": {
        "colab": {
          "base_uri": "https://localhost:8080/"
        },
        "id": "z9mKana__Fl0",
        "outputId": "fa1286c0-4556-4942-d040-1858327fc105"
      },
      "execution_count": null,
      "outputs": [
        {
          "output_type": "stream",
          "name": "stdout",
          "text": [
            "tensor(17., grad_fn=<AddBackward0>)\n"
          ]
        }
      ]
    },
    {
      "cell_type": "markdown",
      "source": [
        "We can automatically compute deivative w.r.t to tensors that have the 'requires_grad' parameter"
      ],
      "metadata": {
        "id": "a9PknoEA_gSr"
      }
    },
    {
      "cell_type": "code",
      "source": [
        "y.backward()"
      ],
      "metadata": {
        "id": "LashK7r8_IcT"
      },
      "execution_count": null,
      "outputs": []
    },
    {
      "cell_type": "code",
      "source": [
        "print('dy/dx', x.grad)\n",
        "print('dy/db', b.grad)\n",
        "print('dy/dw', w.grad)"
      ],
      "metadata": {
        "colab": {
          "base_uri": "https://localhost:8080/"
        },
        "id": "LyvtWdY4_rWU",
        "outputId": "ccda5eaa-ed77-41ca-a65d-30bf3ac0141c"
      },
      "execution_count": null,
      "outputs": [
        {
          "output_type": "stream",
          "name": "stdout",
          "text": [
            "dy/dx None\n",
            "dy/db tensor(1.)\n",
            "dy/dw tensor(3.)\n"
          ]
        }
      ]
    },
    {
      "cell_type": "code",
      "source": [
        "# Create tensor with same values\n",
        "t6 = torch.full((3,2), 42)\n",
        "t6"
      ],
      "metadata": {
        "colab": {
          "base_uri": "https://localhost:8080/"
        },
        "id": "YQ4PQSJR_0pN",
        "outputId": "32cb3dea-a3e5-48c2-a484-cdbde223f6e0"
      },
      "execution_count": null,
      "outputs": [
        {
          "output_type": "execute_result",
          "data": {
            "text/plain": [
              "tensor([[42, 42],\n",
              "        [42, 42],\n",
              "        [42, 42]])"
            ]
          },
          "metadata": {},
          "execution_count": 11
        }
      ]
    },
    {
      "cell_type": "code",
      "source": [
        "t7 = torch.cat((t3, t6), 1)  # 0 will stack  vertically and 1 will stack horizontally\n",
        "t7"
      ],
      "metadata": {
        "colab": {
          "base_uri": "https://localhost:8080/"
        },
        "id": "5YUbNwEOCNDF",
        "outputId": "95687246-749c-4d2b-84e1-02616bc129e3"
      },
      "execution_count": null,
      "outputs": [
        {
          "output_type": "execute_result",
          "data": {
            "text/plain": [
              "tensor([[ 5.,  6., 42., 42.],\n",
              "        [ 7.,  8., 42., 42.],\n",
              "        [ 9., 10., 42., 42.]])"
            ]
          },
          "metadata": {},
          "execution_count": 12
        }
      ]
    },
    {
      "cell_type": "code",
      "source": [
        "t8 = torch.sin(t7)\n",
        "t8"
      ],
      "metadata": {
        "colab": {
          "base_uri": "https://localhost:8080/"
        },
        "id": "K7-PpZJ4CQgM",
        "outputId": "c28e7318-eb1f-4c3d-bf3c-31c64329930f"
      },
      "execution_count": null,
      "outputs": [
        {
          "output_type": "execute_result",
          "data": {
            "text/plain": [
              "tensor([[-0.9589, -0.2794, -0.9165, -0.9165],\n",
              "        [ 0.6570,  0.9894, -0.9165, -0.9165],\n",
              "        [ 0.4121, -0.5440, -0.9165, -0.9165]])"
            ]
          },
          "metadata": {},
          "execution_count": 13
        }
      ]
    },
    {
      "cell_type": "code",
      "source": [
        "t9 = t8.reshape(3,2,2)\n",
        "t9"
      ],
      "metadata": {
        "colab": {
          "base_uri": "https://localhost:8080/"
        },
        "id": "zHQZ8OdVCZcs",
        "outputId": "ef14dd0e-a524-4fe4-a48a-fe1eac5d65c3"
      },
      "execution_count": null,
      "outputs": [
        {
          "output_type": "execute_result",
          "data": {
            "text/plain": [
              "tensor([[[-0.9589, -0.2794],\n",
              "         [-0.9165, -0.9165]],\n",
              "\n",
              "        [[ 0.6570,  0.9894],\n",
              "         [-0.9165, -0.9165]],\n",
              "\n",
              "        [[ 0.4121, -0.5440],\n",
              "         [-0.9165, -0.9165]]])"
            ]
          },
          "metadata": {},
          "execution_count": 14
        }
      ]
    },
    {
      "cell_type": "code",
      "source": [
        "import numpy as np\n",
        "x = np.array([[1,2], [3,4]])\n",
        "x"
      ],
      "metadata": {
        "colab": {
          "base_uri": "https://localhost:8080/"
        },
        "id": "7Pv72tzpC_G0",
        "outputId": "2d0355c0-cc25-497f-aea3-136e998cccf5"
      },
      "execution_count": null,
      "outputs": [
        {
          "output_type": "execute_result",
          "data": {
            "text/plain": [
              "array([[1, 2],\n",
              "       [3, 4]])"
            ]
          },
          "metadata": {},
          "execution_count": 15
        }
      ]
    },
    {
      "cell_type": "code",
      "source": [
        "# convert numpy to torch tensor\n",
        "y = torch.from_numpy(x)\n",
        "y"
      ],
      "metadata": {
        "colab": {
          "base_uri": "https://localhost:8080/"
        },
        "id": "-Yk-8keHC6p8",
        "outputId": "ae238f52-de73-4f70-ffc5-8fbf6f93a471"
      },
      "execution_count": null,
      "outputs": [
        {
          "output_type": "execute_result",
          "data": {
            "text/plain": [
              "tensor([[1, 2],\n",
              "        [3, 4]])"
            ]
          },
          "metadata": {},
          "execution_count": 16
        }
      ]
    },
    {
      "cell_type": "markdown",
      "source": [
        "## Gradient Descent and Linear Regression"
      ],
      "metadata": {
        "id": "RPXEoAveEl9M"
      }
    },
    {
      "cell_type": "code",
      "source": [
        "inputs = np.array([[73, 67, 43],\n",
        "                   [91, 88, 64],\n",
        "                   [87, 134, 58],\n",
        "                   [102, 43, 37],\n",
        "                   [69, 96, 70]], dtype='float32')\n",
        "\n",
        "targets = np.array([[56, 70],\n",
        "                    [81, 101],\n",
        "                    [119, 133],\n",
        "                    [22, 37],\n",
        "                    [103, 119]], dtype='float32')\n",
        "\n",
        "inputs = torch.from_numpy(inputs)\n",
        "targets = torch.from_numpy(targets)\n",
        "print(inputs)\n",
        "print(targets)"
      ],
      "metadata": {
        "colab": {
          "base_uri": "https://localhost:8080/"
        },
        "id": "2cjRznGIEEA8",
        "outputId": "4d720ddd-a29e-442d-8519-c2fa4c8418c5"
      },
      "execution_count": null,
      "outputs": [
        {
          "output_type": "stream",
          "name": "stdout",
          "text": [
            "tensor([[ 73.,  67.,  43.],\n",
            "        [ 91.,  88.,  64.],\n",
            "        [ 87., 134.,  58.],\n",
            "        [102.,  43.,  37.],\n",
            "        [ 69.,  96.,  70.]])\n",
            "tensor([[ 56.,  70.],\n",
            "        [ 81., 101.],\n",
            "        [119., 133.],\n",
            "        [ 22.,  37.],\n",
            "        [103., 119.]])\n"
          ]
        }
      ]
    },
    {
      "cell_type": "code",
      "source": [
        "# Weights and biases\n",
        "w = torch.randn(2, 3, requires_grad=True)\n",
        "b = torch.randn(2, requires_grad=True)\n",
        "print(w)\n",
        "print(b)"
      ],
      "metadata": {
        "colab": {
          "base_uri": "https://localhost:8080/"
        },
        "id": "NKliqQKaIpW6",
        "outputId": "17bca5a0-9130-4a88-e337-92a97046e2f3"
      },
      "execution_count": null,
      "outputs": [
        {
          "output_type": "stream",
          "name": "stdout",
          "text": [
            "tensor([[-1.2797,  1.1569,  0.6113],\n",
            "        [ 0.9261, -0.9310, -1.7667]], requires_grad=True)\n",
            "tensor([-1.1898, -0.2488], requires_grad=True)\n"
          ]
        }
      ]
    },
    {
      "cell_type": "code",
      "source": [
        "def model(x):\n",
        "    return x @ w.t() + b # @ is used for matrix multiplication. 't' is used for transpose"
      ],
      "metadata": {
        "id": "M7hcIAjrJt2k"
      },
      "execution_count": null,
      "outputs": []
    },
    {
      "cell_type": "code",
      "source": [
        "preds = model(inputs)\n",
        "print(preds)"
      ],
      "metadata": {
        "colab": {
          "base_uri": "https://localhost:8080/"
        },
        "id": "5nKUcap1KfRs",
        "outputId": "3e89471b-f66a-4aed-8561-44500521123f"
      },
      "execution_count": null,
      "outputs": [
        {
          "output_type": "stream",
          "name": "stdout",
          "text": [
            "tensor([[   9.1872,  -70.9919],\n",
            "        [  23.2839, -110.9749],\n",
            "        [  77.9502, -146.9059],\n",
            "        [ -59.3566,  -11.1905],\n",
            "        [  64.3600, -149.3974]], grad_fn=<AddBackward0>)\n"
          ]
        }
      ]
    },
    {
      "cell_type": "code",
      "source": [
        "print(targets)"
      ],
      "metadata": {
        "colab": {
          "base_uri": "https://localhost:8080/"
        },
        "id": "K6ZvScMjKiFk",
        "outputId": "7f20e319-d67c-4ed4-d957-f3d4741e5e82"
      },
      "execution_count": null,
      "outputs": [
        {
          "output_type": "stream",
          "name": "stdout",
          "text": [
            "tensor([[ 56.,  70.],\n",
            "        [ 81., 101.],\n",
            "        [119., 133.],\n",
            "        [ 22.,  37.],\n",
            "        [103., 119.]])\n"
          ]
        }
      ]
    },
    {
      "cell_type": "code",
      "source": [
        "def mse(t1, t2):\n",
        "    diff = t1 - t2\n",
        "    return torch.sum(diff * diff) / diff.numel()"
      ],
      "metadata": {
        "id": "3HigbAI3Klsk"
      },
      "execution_count": null,
      "outputs": []
    },
    {
      "cell_type": "markdown",
      "source": [
        "torch.sum returns the sum of all the elements in a tensor. The .numel method of a tensor returns the number of elements in a tensor. Let's compute the mean squared error for the current predictions of our model."
      ],
      "metadata": {
        "id": "FpmW0nC0K0oc"
      }
    },
    {
      "cell_type": "code",
      "source": [
        "loss = mse(preds, targets)\n",
        "print(loss)"
      ],
      "metadata": {
        "colab": {
          "base_uri": "https://localhost:8080/"
        },
        "id": "sr0f5ooJKrcz",
        "outputId": "99eb80d3-b366-42bd-e38e-0c0c71163d97"
      },
      "execution_count": null,
      "outputs": [
        {
          "output_type": "stream",
          "name": "stdout",
          "text": [
            "tensor(23283.8477, grad_fn=<DivBackward0>)\n"
          ]
        }
      ]
    },
    {
      "cell_type": "code",
      "source": [
        " loss.backward()"
      ],
      "metadata": {
        "id": "eBMeW3RSK3d0"
      },
      "execution_count": null,
      "outputs": []
    },
    {
      "cell_type": "code",
      "source": [
        "print(w.grad) # derivative of loss wrt to w"
      ],
      "metadata": {
        "id": "b-gAKKC8Lklt",
        "colab": {
          "base_uri": "https://localhost:8080/"
        },
        "outputId": "354337f7-970a-475f-bdbb-334e85877082"
      },
      "execution_count": null,
      "outputs": [
        {
          "output_type": "stream",
          "name": "stdout",
          "text": [
            "tensor([[ -4641.0737,  -4184.7852,  -2760.5330],\n",
            "        [-15473.7568, -18689.1953, -11286.8906]])\n"
          ]
        }
      ]
    },
    {
      "cell_type": "code",
      "source": [
        "with torch.no_grad(): # not tracking the gradient\n",
        "  w-=w.grad*1e-5\n",
        "  b-=b.grad*1e-5"
      ],
      "metadata": {
        "id": "-ri3YVbuNfs_"
      },
      "execution_count": null,
      "outputs": []
    },
    {
      "cell_type": "code",
      "source": [
        "preds = model(inputs)\n",
        "loss = mse(preds, targets)\n",
        "print(loss)"
      ],
      "metadata": {
        "colab": {
          "base_uri": "https://localhost:8080/"
        },
        "id": "dz0EeGHmOcQg",
        "outputId": "32380a61-fec7-4402-8e7e-7a00c0f5d180"
      },
      "execution_count": null,
      "outputs": [
        {
          "output_type": "stream",
          "name": "stdout",
          "text": [
            "tensor(16336.5957, grad_fn=<DivBackward0>)\n"
          ]
        }
      ]
    },
    {
      "cell_type": "code",
      "source": [
        "# set gradients to 0 after computation is done\n",
        "w.grad.zero_()\n",
        "b.grad.zero_()\n",
        "print(w.grad)\n",
        "print(b.grad)"
      ],
      "metadata": {
        "colab": {
          "base_uri": "https://localhost:8080/"
        },
        "id": "cjzFNuOTOnhf",
        "outputId": "59e8eb8c-8334-4b98-f245-ffd3e42a8779"
      },
      "execution_count": null,
      "outputs": [
        {
          "output_type": "stream",
          "name": "stdout",
          "text": [
            "tensor([[0., 0., 0.],\n",
            "        [0., 0., 0.]])\n",
            "tensor([0., 0.])\n"
          ]
        }
      ]
    },
    {
      "cell_type": "code",
      "source": [
        "for i in range(1000):\n",
        "  preds = model(inputs)\n",
        "  loss = mse(preds, targets)\n",
        "  loss.backward()\n",
        "  with torch.no_grad():\n",
        "    w-=w.grad*1e-5\n",
        "    b-=b.grad*1e-5\n",
        "    w.grad.zero_()\n",
        "    b.grad.zero_()"
      ],
      "metadata": {
        "id": "nhndR_bIPKFv"
      },
      "execution_count": null,
      "outputs": []
    },
    {
      "cell_type": "code",
      "source": [
        "loss = mse(preds, targets)\n",
        "print(loss)"
      ],
      "metadata": {
        "colab": {
          "base_uri": "https://localhost:8080/"
        },
        "id": "g-SPfZmvPnkX",
        "outputId": "6f7317dd-b426-4380-8810-8349fff26313"
      },
      "execution_count": null,
      "outputs": [
        {
          "output_type": "stream",
          "name": "stdout",
          "text": [
            "tensor(26.3291, grad_fn=<DivBackward0>)\n"
          ]
        }
      ]
    },
    {
      "cell_type": "markdown",
      "source": [
        "## Linear Regression with PyTorch built-ins"
      ],
      "metadata": {
        "id": "-qhk0XCsP_ym"
      }
    },
    {
      "cell_type": "code",
      "source": [
        "import torch.nn as nn"
      ],
      "metadata": {
        "id": "t4aeDB51PuOe"
      },
      "execution_count": null,
      "outputs": []
    },
    {
      "cell_type": "code",
      "source": [
        "# Input (temp, rainfall, humidity)\n",
        "inputs = np.array([[73, 67, 43],\n",
        "                   [91, 88, 64],\n",
        "                   [87, 134, 58],\n",
        "                   [102, 43, 37],\n",
        "                   [69, 96, 70],\n",
        "                   [74, 66, 43],\n",
        "                   [91, 87, 65],\n",
        "                   [88, 134, 59],\n",
        "                   [101, 44, 37],\n",
        "                   [68, 96, 71],\n",
        "                   [73, 66, 44],\n",
        "                   [92, 87, 64],\n",
        "                   [87, 135, 57],\n",
        "                   [103, 43, 36],\n",
        "                   [68, 97, 70]],\n",
        "                  dtype='float32')\n",
        "\n",
        "# Targets (apples, oranges)\n",
        "targets = np.array([[56, 70],\n",
        "                    [81, 101],\n",
        "                    [119, 133],\n",
        "                    [22, 37],\n",
        "                    [103, 119],\n",
        "                    [57, 69],\n",
        "                    [80, 102],\n",
        "                    [118, 132],\n",
        "                    [21, 38],\n",
        "                    [104, 118],\n",
        "                    [57, 69],\n",
        "                    [82, 100],\n",
        "                    [118, 134],\n",
        "                    [20, 38],\n",
        "                    [102, 120]],\n",
        "                   dtype='float32')\n",
        "\n",
        "inputs = torch.from_numpy(inputs)\n",
        "targets = torch.from_numpy(targets)"
      ],
      "metadata": {
        "id": "q1wdPX3bQFng"
      },
      "execution_count": null,
      "outputs": []
    },
    {
      "cell_type": "code",
      "source": [
        "from torch.utils.data import TensorDataset\n",
        "\n",
        "train_ds = TensorDataset(inputs, targets) # We'll create a TensorDataset, which allows access to rows from inputs and targets as tuples, and provides standard APIs for working with many different types of datasets in PyTorch.\n",
        "train_ds[0:3]"
      ],
      "metadata": {
        "colab": {
          "base_uri": "https://localhost:8080/"
        },
        "id": "F8dx_7IKQJG_",
        "outputId": "d9ebda99-2c04-4bcd-e847-5aa8e2b32787"
      },
      "execution_count": null,
      "outputs": [
        {
          "output_type": "execute_result",
          "data": {
            "text/plain": [
              "(tensor([[ 73.,  67.,  43.],\n",
              "         [ 91.,  88.,  64.],\n",
              "         [ 87., 134.,  58.]]),\n",
              " tensor([[ 56.,  70.],\n",
              "         [ 81., 101.],\n",
              "         [119., 133.]]))"
            ]
          },
          "metadata": {},
          "execution_count": 39
        }
      ]
    },
    {
      "cell_type": "markdown",
      "source": [
        "The TensorDataset allows us to access a small section of the training data using the array indexing notation ([0:3] in the above code). It returns a tuple with two elements. The first element contains the input variables for the selected rows, and the second contains the targets.\n",
        "\n",
        "We'll also create a DataLoader, which can split the data into batches of a predefined size while training. It also provides other utilities like shuffling and random sampling of the data."
      ],
      "metadata": {
        "id": "kfAUkmOjQhXm"
      }
    },
    {
      "cell_type": "code",
      "source": [
        "from torch.utils.data import DataLoader\n",
        "batch_size = 5\n",
        "train_dl = DataLoader(train_ds, batch_size, shuffle=True) # allows to input data in batches\n",
        "\n",
        "for xb, yb in train_dl:\n",
        "  print(xb)\n",
        "  print(yb)\n",
        "  break"
      ],
      "metadata": {
        "colab": {
          "base_uri": "https://localhost:8080/"
        },
        "id": "8mnlddKvQYef",
        "outputId": "270e0d9a-cbb2-493f-bff6-5abec5eccbe9"
      },
      "execution_count": null,
      "outputs": [
        {
          "output_type": "stream",
          "name": "stdout",
          "text": [
            "tensor([[ 74.,  66.,  43.],\n",
            "        [ 73.,  67.,  43.],\n",
            "        [ 87., 134.,  58.],\n",
            "        [ 87., 135.,  57.],\n",
            "        [ 73.,  66.,  44.]])\n",
            "tensor([[ 57.,  69.],\n",
            "        [ 56.,  70.],\n",
            "        [119., 133.],\n",
            "        [118., 134.],\n",
            "        [ 57.,  69.]])\n"
          ]
        }
      ]
    },
    {
      "cell_type": "code",
      "source": [
        "# define the model\n",
        "\n",
        "model = nn.Linear(3,2) # (number of inputs, number of outputs)\n",
        "print(model.weight)\n",
        "print(model.bias)"
      ],
      "metadata": {
        "colab": {
          "base_uri": "https://localhost:8080/"
        },
        "id": "DY43LB75Qu92",
        "outputId": "fc7b70d9-cba3-4f78-de88-61944a37d40f"
      },
      "execution_count": null,
      "outputs": [
        {
          "output_type": "stream",
          "name": "stdout",
          "text": [
            "Parameter containing:\n",
            "tensor([[0.4914, 0.0441, 0.0520],\n",
            "        [0.3688, 0.5165, 0.4977]], requires_grad=True)\n",
            "Parameter containing:\n",
            "tensor([-0.5440,  0.2387], requires_grad=True)\n"
          ]
        }
      ]
    },
    {
      "cell_type": "code",
      "source": [
        "preds = model(inputs)\n",
        "preds"
      ],
      "metadata": {
        "colab": {
          "base_uri": "https://localhost:8080/"
        },
        "id": "VSXEBeZ6Q_6n",
        "outputId": "257c1546-6200-48c0-d04e-1dab71467eb6"
      },
      "execution_count": null,
      "outputs": [
        {
          "output_type": "execute_result",
          "data": {
            "text/plain": [
              "tensor([[ 40.5228,  83.1684],\n",
              "        [ 51.3871, 111.1048],\n",
              "        [ 51.1383, 130.4030],\n",
              "        [ 53.4040,  78.4822],\n",
              "        [ 41.2403, 110.1086],\n",
              "        [ 40.9701,  83.0207],\n",
              "        [ 51.3950, 111.0859],\n",
              "        [ 51.6817, 131.2695],\n",
              "        [ 52.9567,  78.6299],\n",
              "        [ 40.8008, 110.2374],\n",
              "        [ 40.5307,  83.1496],\n",
              "        [ 51.8345, 110.9571],\n",
              "        [ 51.1304, 130.4219],\n",
              "        [ 53.8435,  78.3534],\n",
              "        [ 40.7929, 110.2563]], grad_fn=<AddmmBackward0>)"
            ]
          },
          "metadata": {},
          "execution_count": 45
        }
      ]
    },
    {
      "cell_type": "code",
      "source": [
        "import torch.nn.functional as F\n",
        "loss_fn = F.mse_loss\n",
        "\n",
        "loss = loss_fn(model(inputs), targets)\n",
        "print(loss)"
      ],
      "metadata": {
        "colab": {
          "base_uri": "https://localhost:8080/"
        },
        "id": "LyIo_66jRXEH",
        "outputId": "b5e9036d-e962-4305-87d0-92d4103b1027"
      },
      "execution_count": null,
      "outputs": [
        {
          "output_type": "stream",
          "name": "stdout",
          "text": [
            "tensor(1256.1497, grad_fn=<MseLossBackward0>)\n"
          ]
        }
      ]
    },
    {
      "cell_type": "code",
      "source": [
        "opt = torch.optim.SGD(model.parameters(), lr=1e-5)"
      ],
      "metadata": {
        "id": "hHUiUZKNTILY"
      },
      "execution_count": null,
      "outputs": []
    },
    {
      "cell_type": "code",
      "source": [
        "def fit(epochs, model, loss_fn, opt, train_dl):\n",
        "  for epoch in range(epochs):\n",
        "    for xb, yb in train_dl: # iterate over the batches\n",
        "      preds = model(xb) # compute predictions\n",
        "      loss = loss_fn(preds, yb) # compute loss\n",
        "      loss.backward() # cmpute gradients\n",
        "      opt.step() # use optimzer to update the parameters\n",
        "      opt.zero_grad() # set gradients back to 0\n",
        "    if (epoch+1) % 10 == 0:\n",
        "            print('Epoch [{}/{}], Loss: {:.4f}'.format(epoch+1, epochs, loss.item()))"
      ],
      "metadata": {
        "id": "zuldvO-CTRm3"
      },
      "execution_count": null,
      "outputs": []
    },
    {
      "cell_type": "code",
      "source": [
        "fit(100, nn.Linear(3,2), loss_fn, opt, train_dl)"
      ],
      "metadata": {
        "colab": {
          "base_uri": "https://localhost:8080/"
        },
        "id": "ocR8swFyUL0v",
        "outputId": "3ae2fe89-dbdc-499a-80c7-8596941ccbb4"
      },
      "execution_count": null,
      "outputs": [
        {
          "output_type": "stream",
          "name": "stdout",
          "text": [
            "Epoch [10/100], Loss: 13613.7324\n",
            "Epoch [20/100], Loss: 18858.5664\n",
            "Epoch [30/100], Loss: 18104.9023\n",
            "Epoch [40/100], Loss: 18129.0996\n",
            "Epoch [50/100], Loss: 19475.8320\n",
            "Epoch [60/100], Loss: 18926.2715\n",
            "Epoch [70/100], Loss: 18319.4180\n",
            "Epoch [80/100], Loss: 16938.7402\n",
            "Epoch [90/100], Loss: 18246.9883\n",
            "Epoch [100/100], Loss: 16410.5859\n"
          ]
        }
      ]
    },
    {
      "cell_type": "code",
      "source": [],
      "metadata": {
        "id": "eFc5Pz2iUayv"
      },
      "execution_count": null,
      "outputs": []
    }
  ]
}