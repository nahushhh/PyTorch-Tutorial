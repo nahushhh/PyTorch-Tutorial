{
  "nbformat": 4,
  "nbformat_minor": 0,
  "metadata": {
    "colab": {
      "provenance": []
    },
    "kernelspec": {
      "name": "python3",
      "display_name": "Python 3"
    },
    "language_info": {
      "name": "python"
    }
  },
  "cells": [
    {
      "cell_type": "code",
      "execution_count": 1,
      "metadata": {
        "colab": {
          "base_uri": "https://localhost:8080/"
        },
        "id": "HEOCWfubU-gw",
        "outputId": "27f8e882-1e29-49f8-e233-b6fcb3701f61"
      },
      "outputs": [
        {
          "output_type": "stream",
          "name": "stdout",
          "text": [
            "Downloading http://yann.lecun.com/exdb/mnist/train-images-idx3-ubyte.gz\n",
            "Failed to download (trying next):\n",
            "<urlopen error [Errno 111] Connection refused>\n",
            "\n",
            "Downloading https://ossci-datasets.s3.amazonaws.com/mnist/train-images-idx3-ubyte.gz\n",
            "Downloading https://ossci-datasets.s3.amazonaws.com/mnist/train-images-idx3-ubyte.gz to /content/MNIST/raw/train-images-idx3-ubyte.gz\n"
          ]
        },
        {
          "output_type": "stream",
          "name": "stderr",
          "text": [
            "100%|██████████| 9.91M/9.91M [00:00<00:00, 16.4MB/s]\n"
          ]
        },
        {
          "output_type": "stream",
          "name": "stdout",
          "text": [
            "Extracting /content/MNIST/raw/train-images-idx3-ubyte.gz to /content/MNIST/raw\n",
            "\n",
            "Downloading http://yann.lecun.com/exdb/mnist/train-labels-idx1-ubyte.gz\n",
            "Failed to download (trying next):\n",
            "<urlopen error [Errno 111] Connection refused>\n",
            "\n",
            "Downloading https://ossci-datasets.s3.amazonaws.com/mnist/train-labels-idx1-ubyte.gz\n",
            "Downloading https://ossci-datasets.s3.amazonaws.com/mnist/train-labels-idx1-ubyte.gz to /content/MNIST/raw/train-labels-idx1-ubyte.gz\n"
          ]
        },
        {
          "output_type": "stream",
          "name": "stderr",
          "text": [
            "100%|██████████| 28.9k/28.9k [00:00<00:00, 505kB/s]\n"
          ]
        },
        {
          "output_type": "stream",
          "name": "stdout",
          "text": [
            "Extracting /content/MNIST/raw/train-labels-idx1-ubyte.gz to /content/MNIST/raw\n",
            "\n",
            "Downloading http://yann.lecun.com/exdb/mnist/t10k-images-idx3-ubyte.gz\n",
            "Failed to download (trying next):\n",
            "<urlopen error [Errno 111] Connection refused>\n",
            "\n",
            "Downloading https://ossci-datasets.s3.amazonaws.com/mnist/t10k-images-idx3-ubyte.gz\n",
            "Downloading https://ossci-datasets.s3.amazonaws.com/mnist/t10k-images-idx3-ubyte.gz to /content/MNIST/raw/t10k-images-idx3-ubyte.gz\n"
          ]
        },
        {
          "output_type": "stream",
          "name": "stderr",
          "text": [
            "100%|██████████| 1.65M/1.65M [00:00<00:00, 4.51MB/s]\n"
          ]
        },
        {
          "output_type": "stream",
          "name": "stdout",
          "text": [
            "Extracting /content/MNIST/raw/t10k-images-idx3-ubyte.gz to /content/MNIST/raw\n",
            "\n",
            "Downloading http://yann.lecun.com/exdb/mnist/t10k-labels-idx1-ubyte.gz\n",
            "Failed to download (trying next):\n",
            "<urlopen error [Errno 111] Connection refused>\n",
            "\n",
            "Downloading https://ossci-datasets.s3.amazonaws.com/mnist/t10k-labels-idx1-ubyte.gz\n",
            "Downloading https://ossci-datasets.s3.amazonaws.com/mnist/t10k-labels-idx1-ubyte.gz to /content/MNIST/raw/t10k-labels-idx1-ubyte.gz\n"
          ]
        },
        {
          "output_type": "stream",
          "name": "stderr",
          "text": [
            "100%|██████████| 4.54k/4.54k [00:00<00:00, 2.91MB/s]"
          ]
        },
        {
          "output_type": "stream",
          "name": "stdout",
          "text": [
            "Extracting /content/MNIST/raw/t10k-labels-idx1-ubyte.gz to /content/MNIST/raw\n",
            "\n"
          ]
        },
        {
          "output_type": "stream",
          "name": "stderr",
          "text": [
            "\n"
          ]
        }
      ],
      "source": [
        "import torch\n",
        "import torchvision\n",
        "from torchvision.datasets import MNIST\n",
        "\n",
        "dataset = MNIST(root='/content', download=True)"
      ]
    },
    {
      "cell_type": "code",
      "source": [
        "test = MNIST(root='/content',  train=False)\n",
        "len(test)"
      ],
      "metadata": {
        "colab": {
          "base_uri": "https://localhost:8080/"
        },
        "id": "p6VvK7RuVntQ",
        "outputId": "041ee84f-0149-4e65-8ea8-a58ae8466640"
      },
      "execution_count": 2,
      "outputs": [
        {
          "output_type": "execute_result",
          "data": {
            "text/plain": [
              "10000"
            ]
          },
          "metadata": {},
          "execution_count": 2
        }
      ]
    },
    {
      "cell_type": "code",
      "source": [
        "import matplotlib.pyplot as plt\n",
        "\n",
        "image, label = dataset[0]\n",
        "plt.imshow(image, cmap='gray')\n",
        "print(label)"
      ],
      "metadata": {
        "colab": {
          "base_uri": "https://localhost:8080/",
          "height": 447
        },
        "id": "KNe5NaUpWAM4",
        "outputId": "28b698a2-8421-448c-f2f5-3cbc2c0ac464"
      },
      "execution_count": 3,
      "outputs": [
        {
          "output_type": "stream",
          "name": "stdout",
          "text": [
            "5\n"
          ]
        },
        {
          "output_type": "display_data",
          "data": {
            "text/plain": [
              "<Figure size 640x480 with 1 Axes>"
            ],
            "image/png": "[encoded data removed]"
          },
          "metadata": {}
        }
      ]
    },
    {
      "cell_type": "code",
      "source": [
        "def view_data(index):\n",
        "  image, label = dataset[index]\n",
        "  plt.imshow(image, cmap='gray')\n",
        "  print(label)\n",
        "\n",
        "view_data(9837)"
      ],
      "metadata": {
        "colab": {
          "base_uri": "https://localhost:8080/",
          "height": 447
        },
        "id": "VY9nSLP_WSdH",
        "outputId": "21c57748-7a73-4584-b161-3b9727244c84"
      },
      "execution_count": 4,
      "outputs": [
        {
          "output_type": "stream",
          "name": "stdout",
          "text": [
            "1\n"
          ]
        },
        {
          "output_type": "display_data",
          "data": {
            "text/plain": [
              "<Figure size 640x480 with 1 Axes>"
            ],
            "image/png": "[encoded data removed]"
          },
          "metadata": {}
        }
      ]
    },
    {
      "cell_type": "code",
      "source": [
        "import torchvision.transforms as transforms\n",
        "dataset = MNIST(root='/content', transform=transforms.ToTensor(), train=True) # convert the image into Tensors"
      ],
      "metadata": {
        "id": "C_i0sXNwWme_"
      },
      "execution_count": 5,
      "outputs": []
    },
    {
      "cell_type": "code",
      "source": [
        "img_tensor, label = dataset[0]\n",
        "print(img_tensor.shape, label) #(color_channel, height, width)"
      ],
      "metadata": {
        "colab": {
          "base_uri": "https://localhost:8080/"
        },
        "id": "AQuusZaQXHYf",
        "outputId": "ca4d6502-e8a7-484a-ad40-ab5814e57dd5"
      },
      "execution_count": 6,
      "outputs": [
        {
          "output_type": "stream",
          "name": "stdout",
          "text": [
            "torch.Size([1, 28, 28]) 5\n"
          ]
        }
      ]
    },
    {
      "cell_type": "code",
      "source": [
        "print(img_tensor[0, 10:15, 10:15])\n",
        "print(torch.max(img_tensor), torch.min(img_tensor))"
      ],
      "metadata": {
        "colab": {
          "base_uri": "https://localhost:8080/"
        },
        "id": "rUhuhuFJXLhl",
        "outputId": "e6013894-b9ac-4fc9-fb43-dae327b949e7"
      },
      "execution_count": 7,
      "outputs": [
        {
          "output_type": "stream",
          "name": "stdout",
          "text": [
            "tensor([[0.0039, 0.6039, 0.9922, 0.3529, 0.0000],\n",
            "        [0.0000, 0.5451, 0.9922, 0.7451, 0.0078],\n",
            "        [0.0000, 0.0431, 0.7451, 0.9922, 0.2745],\n",
            "        [0.0000, 0.0000, 0.1373, 0.9451, 0.8824],\n",
            "        [0.0000, 0.0000, 0.0000, 0.3176, 0.9412]])\n",
            "tensor(1.) tensor(0.)\n"
          ]
        }
      ]
    },
    {
      "cell_type": "markdown",
      "source": [
        "[0, 10:15, 10:15]:\n",
        "\n",
        "0: Selects the first image from the batch.\n",
        "\n",
        "10:15: A slice for rows. This means rows 10 to 14 (inclusive of 10, exclusive of 15).\n",
        "\n",
        "10:15: A slice for columns. This means columns 10 to 14 (inclusive of 10, exclusive of 15)."
      ],
      "metadata": {
        "id": "CEOdIVJvZGe9"
      }
    },
    {
      "cell_type": "code",
      "source": [
        "from torch.utils.data import random_split\n",
        "\n",
        "train_ds, val_ds = random_split(dataset, [50000, 10000])\n",
        "len(train_ds), len(val_ds)"
      ],
      "metadata": {
        "colab": {
          "base_uri": "https://localhost:8080/"
        },
        "id": "XaUhIOBtXrbA",
        "outputId": "50cd998e-99ee-440a-9f75-5be44aba4ab8"
      },
      "execution_count": 8,
      "outputs": [
        {
          "output_type": "execute_result",
          "data": {
            "text/plain": [
              "(50000, 10000)"
            ]
          },
          "metadata": {},
          "execution_count": 8
        }
      ]
    },
    {
      "cell_type": "code",
      "source": [
        "from torch.utils.data import DataLoader\n",
        "\n",
        "batch_size = 128\n",
        "\n",
        "train_loader = DataLoader(train_ds, batch_size, shuffle=True)\n",
        "val_loader = DataLoader(val_ds, batch_size) # user for evaluation so no need to shuffle"
      ],
      "metadata": {
        "id": "4SOiANSBZOFO"
      },
      "execution_count": 9,
      "outputs": []
    },
    {
      "cell_type": "code",
      "source": [
        "import torch.nn as nn\n",
        "\n",
        "input_size = 28*28\n",
        "num_classes = 10\n",
        "\n",
        "model = nn.Linear(input_size, num_classes)"
      ],
      "metadata": {
        "id": "C4k3nBl3eO22"
      },
      "execution_count": 10,
      "outputs": []
    },
    {
      "cell_type": "code",
      "source": [
        "def evaluate(model, val_loader):\n",
        "    outputs = [model.validation_step(batch) for batch in val_loader]\n",
        "    return model.validation_epoch_end(outputs)"
      ],
      "metadata": {
        "id": "brgXzyGouuJ9"
      },
      "execution_count": 29,
      "outputs": []
    },
    {
      "cell_type": "code",
      "source": [
        "import torch.nn.functional as F\n",
        "class MnistModel(nn.Module):\n",
        "    def __init__(self):\n",
        "        super().__init__()\n",
        "        self.linear = nn.Linear(input_size, num_classes)\n",
        "\n",
        "    def forward(self, xb):\n",
        "        xb = xb.reshape(-1, 784)\n",
        "        out = self.linear(xb)\n",
        "        return out\n",
        "\n",
        "    def training_step(self, batch):\n",
        "      image, label = batch\n",
        "      out = self(image)\n",
        "      loss = F.cross_entropy(out, label)\n",
        "      return loss\n",
        "\n",
        "    def validation_step(self, batch):\n",
        "      image, label = batch\n",
        "      out = self(image)\n",
        "      loss = F.cross_entropy(out, label)\n",
        "      acc = accuracy(out, label)\n",
        "      return {'val_loss': loss, 'val_acc': acc}\n",
        "\n",
        "    def validation_epoch_end(self, outputs):\n",
        "      batch_losses = [x['val_loss'] for x in outputs]\n",
        "      epoch_loss = torch.stack(batch_losses).mean()\n",
        "      batch_accs = [x['val_acc'] for x in outputs]\n",
        "      epoch_acc = torch.stack(batch_accs).mean()\n",
        "      return {'val_loss': epoch_loss.item(), 'val_acc': epoch_acc.item()}\n",
        "\n",
        "    def epoch_end(self, epoch, result):\n",
        "      print(\"Epoch [{}], val_loss: {:.4f}, val_acc: {:.4f}\".format(epoch, result['val_loss'], result['val_acc']))\n",
        "\n",
        "model = MnistModel()"
      ],
      "metadata": {
        "id": "o7Jf40Cje3n_"
      },
      "execution_count": 30,
      "outputs": []
    },
    {
      "cell_type": "code",
      "source": [
        "model.linear"
      ],
      "metadata": {
        "id": "62wyQ9RQiG-u",
        "colab": {
          "base_uri": "https://localhost:8080/"
        },
        "outputId": "c285258d-8b33-4139-ec3c-51d570e2e594"
      },
      "execution_count": 12,
      "outputs": [
        {
          "output_type": "execute_result",
          "data": {
            "text/plain": [
              "Linear(in_features=784, out_features=10, bias=True)"
            ]
          },
          "metadata": {},
          "execution_count": 12
        }
      ]
    },
    {
      "cell_type": "code",
      "source": [
        "model.linear.weight.shape, model.linear.bias.shape"
      ],
      "metadata": {
        "colab": {
          "base_uri": "https://localhost:8080/"
        },
        "id": "N__ptd_gpksX",
        "outputId": "1897b3fe-375d-4102-dc6f-0e63e6f54392"
      },
      "execution_count": 13,
      "outputs": [
        {
          "output_type": "execute_result",
          "data": {
            "text/plain": [
              "(torch.Size([10, 784]), torch.Size([10]))"
            ]
          },
          "metadata": {},
          "execution_count": 13
        }
      ]
    },
    {
      "cell_type": "code",
      "source": [
        "list(model.parameters()) # intial parameters"
      ],
      "metadata": {
        "colab": {
          "base_uri": "https://localhost:8080/"
        },
        "id": "ArguH8VKplqi",
        "outputId": "6c61dc77-a5b8-478d-dc47-b958e5d926b6"
      },
      "execution_count": 16,
      "outputs": [
        {
          "output_type": "execute_result",
          "data": {
            "text/plain": [
              "[Parameter containing:\n",
              " tensor([[-0.0088, -0.0304, -0.0263,  ..., -0.0227, -0.0073,  0.0043],\n",
              "         [ 0.0164,  0.0229, -0.0157,  ...,  0.0342,  0.0082,  0.0112],\n",
              "         [-0.0026,  0.0336, -0.0356,  ..., -0.0146,  0.0164,  0.0326],\n",
              "         ...,\n",
              "         [-0.0191,  0.0162, -0.0148,  ...,  0.0011,  0.0256, -0.0224],\n",
              "         [-0.0186,  0.0289,  0.0173,  ...,  0.0353, -0.0128,  0.0235],\n",
              "         [ 0.0160, -0.0063, -0.0348,  ...,  0.0305,  0.0278, -0.0111]],\n",
              "        requires_grad=True),\n",
              " Parameter containing:\n",
              " tensor([ 0.0142,  0.0341,  0.0249,  0.0210, -0.0263,  0.0060,  0.0338, -0.0176,\n",
              "         -0.0093,  0.0202], requires_grad=True)]"
            ]
          },
          "metadata": {},
          "execution_count": 16
        }
      ]
    },
    {
      "cell_type": "code",
      "source": [
        "import torch.nn.functional as F\n",
        "\n",
        "for image, label in train_loader:\n",
        "  output = model(image)\n",
        "  break\n",
        "\n",
        "print(output.shape) # (number of images in batch, their predictions)\n",
        "\n",
        "# convert to probs\n",
        "\n",
        "prob = F.softmax(output, dim=1) # apply along the row\n",
        "\n",
        "preds, probs = torch.max(prob, dim=1)\n",
        "print(probs, preds)"
      ],
      "metadata": {
        "colab": {
          "base_uri": "https://localhost:8080/"
        },
        "id": "HR5LuSMopxCw",
        "outputId": "c15afa03-7da7-4014-e9dd-685d49ba0dbc"
      },
      "execution_count": 23,
      "outputs": [
        {
          "output_type": "stream",
          "name": "stdout",
          "text": [
            "torch.Size([128, 10])\n",
            "tensor([4, 9, 4, 2, 1, 5, 3, 6, 0, 4, 1, 6, 2, 8, 5, 4, 4, 6, 3, 4, 0, 2, 1, 4,\n",
            "        4, 0, 2, 4, 8, 1, 4, 3, 0, 2, 2, 3, 2, 1, 9, 0, 2, 4, 8, 4, 3, 3, 2, 2,\n",
            "        2, 1, 5, 4, 4, 0, 3, 1, 1, 0, 5, 2, 3, 2, 2, 2, 4, 1, 1, 1, 3, 4, 6, 0,\n",
            "        2, 0, 7, 2, 4, 5, 4, 9, 4, 2, 6, 4, 4, 2, 2, 1, 2, 2, 4, 0, 2, 2, 0, 2,\n",
            "        4, 2, 4, 0, 0, 9, 2, 0, 2, 2, 3, 1, 4, 4, 3, 0, 4, 8, 1, 1, 9, 4, 8, 5,\n",
            "        8, 4, 4, 5, 4, 4, 2, 8]) tensor([0.1349, 0.1181, 0.1216, 0.1308, 0.1095, 0.1325, 0.1144, 0.1287, 0.1380,\n",
            "        0.1239, 0.1195, 0.1199, 0.1164, 0.1346, 0.1206, 0.1213, 0.1206, 0.1257,\n",
            "        0.1186, 0.1192, 0.1186, 0.1415, 0.1087, 0.1419, 0.1415, 0.1125, 0.1357,\n",
            "        0.1266, 0.1586, 0.1275, 0.1362, 0.1229, 0.1175, 0.1176, 0.1206, 0.1182,\n",
            "        0.1183, 0.1093, 0.1393, 0.1241, 0.1476, 0.1158, 0.1165, 0.1326, 0.1294,\n",
            "        0.1211, 0.1423, 0.1547, 0.1211, 0.1330, 0.1142, 0.1280, 0.1283, 0.1220,\n",
            "        0.1223, 0.1147, 0.1213, 0.1418, 0.1250, 0.1288, 0.1511, 0.1201, 0.1263,\n",
            "        0.1321, 0.1125, 0.1222, 0.1129, 0.1257, 0.1249, 0.1123, 0.1256, 0.1163,\n",
            "        0.1270, 0.1403, 0.1358, 0.1177, 0.1385, 0.1169, 0.1180, 0.1163, 0.1293,\n",
            "        0.1256, 0.1366, 0.1297, 0.1231, 0.1223, 0.1375, 0.1176, 0.1363, 0.1200,\n",
            "        0.1214, 0.1343, 0.1426, 0.1076, 0.1225, 0.1259, 0.1207, 0.1279, 0.1240,\n",
            "        0.1145, 0.1171, 0.1349, 0.1399, 0.1255, 0.1220, 0.1364, 0.1140, 0.1344,\n",
            "        0.1260, 0.1327, 0.1110, 0.1313, 0.1301, 0.1276, 0.1212, 0.1216, 0.1181,\n",
            "        0.1208, 0.1291, 0.1301, 0.1369, 0.1314, 0.1186, 0.1328, 0.1199, 0.1126,\n",
            "        0.1204, 0.1207], grad_fn=<MaxBackward0>)\n"
          ]
        }
      ]
    },
    {
      "cell_type": "code",
      "source": [
        "def accuracy(outputs, labels):\n",
        "    _, preds = torch.max(outputs, dim=1)\n",
        "    return torch.tensor(torch.sum(preds == labels).item() / len(preds))\n",
        "\n",
        "accuracy(output, label)"
      ],
      "metadata": {
        "colab": {
          "base_uri": "https://localhost:8080/"
        },
        "id": "q7RriHoErJco",
        "outputId": "331b927a-d60e-4a5b-e5e4-32ea300a226e"
      },
      "execution_count": 26,
      "outputs": [
        {
          "output_type": "execute_result",
          "data": {
            "text/plain": [
              "tensor(0.2109)"
            ]
          },
          "metadata": {},
          "execution_count": 26
        }
      ]
    },
    {
      "cell_type": "code",
      "source": [
        "print(F.cross_entropy(output, label))"
      ],
      "metadata": {
        "colab": {
          "base_uri": "https://localhost:8080/"
        },
        "id": "9ODl17iYsOWn",
        "outputId": "08554d68-683d-4d33-a00e-9149d9995f6f"
      },
      "execution_count": 27,
      "outputs": [
        {
          "output_type": "stream",
          "name": "stdout",
          "text": [
            "tensor(2.2762, grad_fn=<NllLossBackward0>)\n"
          ]
        }
      ]
    },
    {
      "cell_type": "code",
      "source": [
        "def fit(epochs, lr, model, train_loader, val_loarder, opt=torch.optim.SGD):\n",
        "  optimizer = opt(model.parameters(), lr)\n",
        "  history = []\n",
        "\n",
        "  for epoch in range(epochs):\n",
        "\n",
        "    for batch in train_loader:\n",
        "      output = model(image)\n",
        "      loss = model.training_step(batch)\n",
        "      loss.backward()\n",
        "      optimizer.step()\n",
        "      optimizer.zero_grad()\n",
        "\n",
        "    res = evaluate(model, val_loader)\n",
        "    model.epoch_end(epoch, res)\n",
        "    history.append(res)\n",
        "\n",
        "  return history\n",
        "\n",
        "\n",
        "result0 = evaluate(model, val_loader)\n",
        "result0"
      ],
      "metadata": {
        "colab": {
          "base_uri": "https://localhost:8080/"
        },
        "id": "0Yzhf4liszc1",
        "outputId": "18878e8e-5418-47c5-e841-8c583627ad5a"
      },
      "execution_count": 31,
      "outputs": [
        {
          "output_type": "execute_result",
          "data": {
            "text/plain": [
              "{'val_loss': 2.2840001583099365, 'val_acc': 0.1389438360929489}"
            ]
          },
          "metadata": {},
          "execution_count": 31
        }
      ]
    },
    {
      "cell_type": "code",
      "source": [
        "history1 = fit(5, 0.001, model, train_loader, val_loader)"
      ],
      "metadata": {
        "colab": {
          "base_uri": "https://localhost:8080/"
        },
        "id": "NMyiaLAavirP",
        "outputId": "c96ca5ec-2056-4e1b-a561-4c8aef4a8f6c"
      },
      "execution_count": 32,
      "outputs": [
        {
          "output_type": "stream",
          "name": "stdout",
          "text": [
            "Epoch [0], val_loss: 1.9298, val_acc: 0.6494\n",
            "Epoch [1], val_loss: 1.6669, val_acc: 0.7316\n",
            "Epoch [2], val_loss: 1.4696, val_acc: 0.7598\n",
            "Epoch [3], val_loss: 1.3200, val_acc: 0.7832\n",
            "Epoch [4], val_loss: 1.2047, val_acc: 0.7959\n"
          ]
        }
      ]
    },
    {
      "cell_type": "code",
      "source": [
        "history2 = fit(5, 0.001, model, train_loader, val_loader)"
      ],
      "metadata": {
        "colab": {
          "base_uri": "https://localhost:8080/"
        },
        "id": "MI0NZgkzvlVh",
        "outputId": "336d4688-9820-4f0a-d22e-c0ff86328e42"
      },
      "execution_count": 33,
      "outputs": [
        {
          "output_type": "stream",
          "name": "stdout",
          "text": [
            "Epoch [0], val_loss: 1.1140, val_acc: 0.8074\n",
            "Epoch [1], val_loss: 1.0410, val_acc: 0.8153\n",
            "Epoch [2], val_loss: 0.9812, val_acc: 0.8213\n",
            "Epoch [3], val_loss: 0.9314, val_acc: 0.8263\n",
            "Epoch [4], val_loss: 0.8892, val_acc: 0.8319\n"
          ]
        }
      ]
    },
    {
      "cell_type": "code",
      "source": [
        "history3 = fit(5, 0.001, model, train_loader, val_loader)"
      ],
      "metadata": {
        "colab": {
          "base_uri": "https://localhost:8080/"
        },
        "id": "aGXYjY3bvzd1",
        "outputId": "105f7c05-752f-4952-8f14-8c1a1df340f0"
      },
      "execution_count": 34,
      "outputs": [
        {
          "output_type": "stream",
          "name": "stdout",
          "text": [
            "Epoch [0], val_loss: 0.8531, val_acc: 0.8360\n",
            "Epoch [1], val_loss: 0.8217, val_acc: 0.8393\n",
            "Epoch [2], val_loss: 0.7942, val_acc: 0.8424\n",
            "Epoch [3], val_loss: 0.7699, val_acc: 0.8442\n",
            "Epoch [4], val_loss: 0.7483, val_acc: 0.8465\n"
          ]
        }
      ]
    },
    {
      "cell_type": "code",
      "source": [
        "history4 = fit(5, 0.001, model, train_loader, val_loader)"
      ],
      "metadata": {
        "colab": {
          "base_uri": "https://localhost:8080/"
        },
        "id": "JpUfnZGyv00q",
        "outputId": "7cc0ac4b-530e-4f14-b13c-aab6f7edd33d"
      },
      "execution_count": 35,
      "outputs": [
        {
          "output_type": "stream",
          "name": "stdout",
          "text": [
            "Epoch [0], val_loss: 0.7289, val_acc: 0.8484\n",
            "Epoch [1], val_loss: 0.7114, val_acc: 0.8500\n",
            "Epoch [2], val_loss: 0.6956, val_acc: 0.8523\n",
            "Epoch [3], val_loss: 0.6811, val_acc: 0.8537\n",
            "Epoch [4], val_loss: 0.6678, val_acc: 0.8552\n"
          ]
        }
      ]
    },
    {
      "cell_type": "code",
      "source": [
        "history = [result0] + history1 + history2 + history3 + history4\n",
        "accuracies = [result['val_acc'] for result in history]\n",
        "plt.plot(accuracies, '-x')\n",
        "plt.xlabel('epoch')\n",
        "plt.ylabel('accuracy')\n",
        "plt.title('Accuracy vs. No. of epochs');"
      ],
      "metadata": {
        "colab": {
          "base_uri": "https://localhost:8080/",
          "height": 472
        },
        "id": "_9OU-Vepv2EJ",
        "outputId": "ffb7cc25-4494-4d2a-e28f-d21f92ade85d"
      },
      "execution_count": 36,
      "outputs": [
        {
          "output_type": "display_data",
          "data": {
            "text/plain": [
              "<Figure size 640x480 with 1 Axes>"
            ],
            "image/png": "[encoded data removed]"
          },
          "metadata": {}
        }
      ]
    },
    {
      "cell_type": "code",
      "source": [
        "test_data = MNIST(root='/content', train=False, transform = transforms.ToTensor())\n",
        "\n",
        "def predict_image(img, model):\n",
        "    xb = img.unsqueeze(0) # img.unsqueeze simply adds another dimension at the begining of the 1x28x28 tensor, making it a 1x1x28x28 tensor, which the model views as a batch containing a single image.\n",
        "    yb = model(xb)\n",
        "    _, preds = torch.max(yb, dim=1)\n",
        "    return preds[0].item()"
      ],
      "metadata": {
        "id": "d_-wOgo6v7d-"
      },
      "execution_count": 37,
      "outputs": []
    },
    {
      "cell_type": "code",
      "source": [
        "img, label = test_data[0]\n",
        "plt.imshow(img[0], cmap='gray')\n",
        "print('Label:', label, ', Predicted:', predict_image(img, model))"
      ],
      "metadata": {
        "colab": {
          "base_uri": "https://localhost:8080/",
          "height": 447
        },
        "id": "6_G2iTOWwzBz",
        "outputId": "400e5075-391d-4b08-ea8e-85d015cda94b"
      },
      "execution_count": 38,
      "outputs": [
        {
          "output_type": "stream",
          "name": "stdout",
          "text": [
            "Label: 7 , Predicted: 7\n"
          ]
        },
        {
          "output_type": "display_data",
          "data": {
            "text/plain": [
              "<Figure size 640x480 with 1 Axes>"
            ],
            "image/png": "[encoded data removed]"
          },
          "metadata": {}
        }
      ]
    },
    {
      "cell_type": "code",
      "source": [
        "test_loader = DataLoader(test_data, batch_size=256)\n",
        "result = evaluate(model, test_loader)\n",
        "result"
      ],
      "metadata": {
        "colab": {
          "base_uri": "https://localhost:8080/"
        },
        "id": "PirzJ3Wfw3P9",
        "outputId": "1a7e5dcb-767d-4da3-c592-ed64738579e5"
      },
      "execution_count": 40,
      "outputs": [
        {
          "output_type": "execute_result",
          "data": {
            "text/plain": [
              "{'val_loss': 0.6393433809280396, 'val_acc': 0.86083984375}"
            ]
          },
          "metadata": {},
          "execution_count": 40
        }
      ]
    },
    {
      "cell_type": "code",
      "source": [
        "torch.save(model.state_dict(), 'mnist-logistic.pth')"
      ],
      "metadata": {
        "id": "Nbmhmt5qw6DD"
      },
      "execution_count": 41,
      "outputs": []
    },
    {
      "cell_type": "code",
      "source": [
        "model2 = MnistModel()\n",
        "model2.load_state_dict(torch.load('mnist-logistic.pth'))"
      ],
      "metadata": {
        "colab": {
          "base_uri": "https://localhost:8080/"
        },
        "id": "jP3KVh_gxN8A",
        "outputId": "4ccd566f-afac-4d8c-c08d-1e956004cd48"
      },
      "execution_count": 42,
      "outputs": [
        {
          "output_type": "stream",
          "name": "stderr",
          "text": [
            "<ipython-input-42-c9094a019e06>:2: FutureWarning: You are using `torch.load` with `weights_only=False` (the current default value), which uses the default pickle module implicitly. It is possible to construct malicious pickle data which will execute arbitrary code during unpickling (See https://github.com/pytorch/pytorch/blob/main/SECURITY.md#untrusted-models for more details). In a future release, the default value for `weights_only` will be flipped to `True`. This limits the functions that could be executed during unpickling. Arbitrary objects will no longer be allowed to be loaded via this mode unless they are explicitly allowlisted by the user via `torch.serialization.add_safe_globals`. We recommend you start setting `weights_only=True` for any use case where you don't have full control of the loaded file. Please open an issue on GitHub for any issues related to this experimental feature.\n",
            "  model2.load_state_dict(torch.load('mnist-logistic.pth'))\n"
          ]
        },
        {
          "output_type": "execute_result",
          "data": {
            "text/plain": [
              "<All keys matched successfully>"
            ]
          },
          "metadata": {},
          "execution_count": 42
        }
      ]
    },
    {
      "cell_type": "code",
      "source": [
        "evaluate(model2, test_loader)"
      ],
      "metadata": {
        "colab": {
          "base_uri": "https://localhost:8080/"
        },
        "id": "kA72hbrixP9j",
        "outputId": "e5ea2e2d-ebaf-4aa2-cddc-866ef8fb744e"
      },
      "execution_count": 43,
      "outputs": [
        {
          "output_type": "execute_result",
          "data": {
            "text/plain": [
              "{'val_loss': 0.6393433809280396, 'val_acc': 0.86083984375}"
            ]
          },
          "metadata": {},
          "execution_count": 43
        }
      ]
    },
    {
      "cell_type": "code",
      "source": [],
      "metadata": {
        "id": "Pd7saW51xRVB"
      },
      "execution_count": null,
      "outputs": []
    }
  ]
}